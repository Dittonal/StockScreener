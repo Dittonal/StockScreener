{
 "cells": [
  {
   "cell_type": "code",
   "execution_count": null,
   "metadata": {},
   "outputs": [],
   "source": [
    "\n",
    "import arcpy,os\n",
    "\n",
    "def create_blank_polyline_shapefile(output_path):\n",
    "    \"\"\"\n",
    "    创建一个空白的多段线要素类（shapefile）。\n",
    "\n",
    "    参数:\n",
    "    output_path -- 空白shapefile的完整路径和文件名\n",
    "    \"\"\"\n",
    "    # 检查输出路径是否存在，如果不存在则创建\n",
    "    os.makedirs(os.path.dirname(output_path), exist_ok=True)\n",
    "\n",
    "    # 检查输出shapefile是否已存在，如果存在则删除\n",
    "    if arcpy.Exists(output_path):\n",
    "        arcpy.Delete_management(output_path)\n",
    "\n",
    "    # 创建一个新的空白要素类，这里不指定坐标系（spatial reference）\n",
    "    arcpy.CreateFeatureclass_management(os.path.dirname(output_path), os.path.basename(output_path), \"POLYLINE\")\n",
    "\n",
    "    # 输出要素类已创建，此时它是空白的，因为没有添加任何要素\n",
    "    print(f\"Blank polyline shapefile created at: {output_path}\")\n",
    "\n",
    "# 使用函数创建空白shapefile的示例\n",
    "output_paths = [os.path.join(r\"E:\\BaiduNetdiskDownload\\869-878\\水24号钻孔\",i) for i in ['水24HGG','水24HG','水24DLW']]\n"
   ]
  },
  {
   "cell_type": "code",
   "execution_count": null,
   "metadata": {},
   "outputs": [],
   "source": [
    "\n",
    "for path in output_paths:\n",
    "    create_blank_polyline_shapefile(path)\n",
    "import arcpy\n",
    "import os,glob\n",
    "\n",
    "def dissolve_shapefile(input_shapefile, dissolve_field, output_folder):\n",
    "    \"\"\"\n",
    "    对单个shapefile文件内部的要素进行融合。\n",
    "    \n",
    "    参数:\n",
    "    input_shapefile -- 输入shapefile的完整路径\n",
    "    dissolve_field -- 用于融合的属性字段名\n",
    "    output_folder -- 输出shapefile的文件夹路径\n",
    "    \"\"\"\n",
    "    # 构造输出shapefile的文件名\n",
    "    output_filename = os.path.basename(input_shapefile).split('.')[0] + \"_dissolved.shp\"\n",
    "    output_path = os.path.join(output_folder, output_filename)\n",
    "    \n",
    "    # 检查输出shapefile是否已存在，如果存在则删除\n",
    "    if arcpy.Exists(output_path):\n",
    "        arcpy.Delete_management(output_path)\n",
    "    \n",
    "    # 使用Dissolve函数对输入shapefile中的要素进行融合\n",
    "    arcpy.Dissolve_management(input_shapefile, output_path, dissolve_field)\n",
    "    \n",
    "    # 打印完成信息\n",
    "    print(f\"Shapefile dissolved and saved as: {output_path}\")\n",
    "\n",
    "# 使用函数对单个shapefile进行融合的示例\n",
    "input_shapefile = r\"E:\\BaiduNetdiskDownload\\869-878\\水24号钻孔\\水24HGG.shp\"  # 输入shapefile的路径\n",
    "dissolve_field = \"Id\"  # 用于融合的属性字段名\n",
    "output_folder = r\"E:\\BaiduNetdiskDownload\\869-878\\水24号钻孔\"  # 输出文件夹的路径\n"
   ]
  },
  {
   "cell_type": "code",
   "execution_count": null,
   "metadata": {},
   "outputs": [],
   "source": [
    "\n",
    "# 调用函数\n",
    "dissolve_shapefile(input_shapefile, dissolve_field, output_folder)\n",
    "import os,glob\n",
    "import arcpy\n",
    "\n",
    "def shapefile_to_dwg(input_shapefile):\n",
    "\n",
    "    arcpy.env.overwriteOutput = True\n",
    "    output_dwg = os.path.basename(input_shapefile).split('.')[0] + \".dwg\"\n",
    "    output_path = os.path.join(output_folder, output_dwg)\n",
    "\n",
    "    arcpy.conversion.ExportCAD(input_shapefile,'DWG_R2018', output_path)\n"
   ]
  }
 ],
 "metadata": {
  "language_info": {
   "name": "python"
  }
 },
 "nbformat": 4,
 "nbformat_minor": 2
}
